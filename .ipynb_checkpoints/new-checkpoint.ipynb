{
 "cells": [
  {
   "cell_type": "code",
   "execution_count": 3,
   "id": "a1dc520e",
   "metadata": {},
   "outputs": [
    {
     "name": "stdout",
     "output_type": "stream",
     "text": [
      "              precision    recall  f1-score   support\n",
      "\n",
      "         cat       0.62      1.00      0.76        21\n",
      "         dog       1.00      0.38      0.55        21\n",
      "\n",
      "    accuracy                           0.69        42\n",
      "   macro avg       0.81      0.69      0.66        42\n",
      "weighted avg       0.81      0.69      0.66        42\n",
      "\n"
     ]
    }
   ],
   "source": [
    "import numpy as np\n",
    "import pywt\n",
    "import os\n",
    "import librosa\n",
    "from sklearn.model_selection import train_test_split\n",
    "from sklearn.svm import SVC\n",
    "from sklearn.metrics import classification_report\n",
    "# Define the animal classes\n",
    "animal_classes = ['cat', 'dog']\n",
    "\n",
    "# Define the wavelet family and level\n",
    "wavelet_family = 'db4'\n",
    "level = 4\n",
    "\n",
    "# Define the feature vector and label list\n",
    "feature_vectors = []\n",
    "labels = []\n",
    "animal_class_path1=\"C:/Users/girik/OneDrive/Desktop/MINI PROJJ/pgm/cats_dogs/train/\"\n",
    "# Iterate through each animal class\n",
    "for animal_class in animal_classes:\n",
    "    # Get the path to the animal class directory\n",
    "    animal_class_path = animal_class_path1+animal_class\n",
    "    # Iterate through each audio file in the directory\n",
    "    for audio_file in os.listdir(animal_class_path):\n",
    "        # Load the audio data\n",
    "        audio_data, _ = librosa.load(os.path.join(animal_class_path, audio_file), sr=44100)\n",
    "        # Apply wavelet transform\n",
    "        cA4, cD4, cD3, cD2, cD1 = pywt.wavedec(audio_data, wavelet_family, level=level)\n",
    "        # Extract statistical features from the wavelet coefficients\n",
    "        feature_vector = [np.mean(cA4), np.std(cA4), np.mean(cD4), np.std(cD4), np.mean(cD3), np.std(cD3),\n",
    "                          np.mean(cD2), np.std(cD2), np.mean(cD1), np.std(cD1)]\n",
    "        # Append the feature vector and label to the lists\n",
    "        feature_vectors.append(feature_vector)\n",
    "        labels.append(animal_class)\n",
    "\n",
    "# Split the data into training and testing sets\n",
    "X_train, X_test, y_train, y_test = train_test_split(feature_vectors, labels, test_size=0.2, random_state=42)\n",
    "\n",
    "# Train the SVM classifier\n",
    "svm = SVC(kernel='linear', C=1, gamma='auto')\n",
    "svm.fit(X_train, y_train)\n",
    "\n",
    "# Test the SVM classifier\n",
    "y_pred = svm.predict(X_test)\n",
    "\n",
    "# Print the classification report\n",
    "print(classification_report(y_test, y_pred))\n",
    "\n",
    "\n"
   ]
  },
  {
   "cell_type": "code",
   "execution_count": null,
   "id": "decf99dc",
   "metadata": {},
   "outputs": [],
   "source": []
  }
 ],
 "metadata": {
  "kernelspec": {
   "display_name": "Python 3",
   "language": "python",
   "name": "python3"
  },
  "language_info": {
   "codemirror_mode": {
    "name": "ipython",
    "version": 3
   },
   "file_extension": ".py",
   "mimetype": "text/x-python",
   "name": "python",
   "nbconvert_exporter": "python",
   "pygments_lexer": "ipython3",
   "version": "3.8.8"
  }
 },
 "nbformat": 4,
 "nbformat_minor": 5
}
